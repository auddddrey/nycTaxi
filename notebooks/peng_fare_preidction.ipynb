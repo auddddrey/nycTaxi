{
 "cells": [
  {
   "cell_type": "markdown",
   "id": "c84fa767",
   "metadata": {},
   "source": [
    "## Project Overview"
   ]
  },
  {
   "cell_type": "markdown",
   "id": "16e1abf9",
   "metadata": {},
   "source": [
    "This project utilizes Yellow Cab data, provided by the  NYC Taxi and Limousine Commission, to predict three different parameters:\n",
    "\n",
    "1. Total  Fare prediction - Total Amount\n",
    "2. Elapsed time (ride duration) prediction \n",
    "3. \"Trip combination\" traffic volume \n",
    "\n",
    "The data can be found at https://www.nyc.gov/site/tlc/about/tlc-trip-record-data.page, with the Yellow Cab data dictionary available at https://www.nyc.gov/assets/tlc/downloads/pdf/data_dictionary_trip_records_yellow.pdf.\n",
    "\n"
   ]
  },
  {
   "cell_type": "code",
   "execution_count": 1,
   "id": "c835a9d8",
   "metadata": {},
   "outputs": [
    {
     "name": "stderr",
     "output_type": "stream",
     "text": [
      "Setting default log level to \"WARN\".\n",
      "To adjust logging level use sc.setLogLevel(newLevel). For SparkR, use setLogLevel(newLevel).\n"
     ]
    },
    {
     "name": "stdout",
     "output_type": "stream",
     "text": [
      "23/03/31 15:09:40 WARN NativeCodeLoader: Unable to load native-hadoop library for your platform... using builtin-java classes where applicable\n",
      "23/03/31 15:09:41 WARN Utils: Service 'SparkUI' could not bind on port 4040. Attempting port 4041.\n",
      "23/03/31 15:09:41 WARN Utils: Service 'SparkUI' could not bind on port 4041. Attempting port 4042.\n",
      "23/03/31 15:09:41 WARN Utils: Service 'SparkUI' could not bind on port 4042. Attempting port 4043.\n"
     ]
    }
   ],
   "source": [
    "# Import packages\n",
    "from pyspark.context import SparkContext\n",
    "from pyspark.sql.session import SparkSession\n",
    "import pyspark.sql.functions as F\n",
    "import pandas as pd\n",
    "import seaborn as sns\n",
    "import matplotlib.pyplot as plt\n",
    "%matplotlib inline\n",
    "\n",
    "sc = SparkContext('local')\n",
    "spark = SparkSession(sc)"
   ]
  },
  {
   "cell_type": "code",
   "execution_count": 2,
   "id": "e459ca71",
   "metadata": {},
   "outputs": [
    {
     "name": "stderr",
     "output_type": "stream",
     "text": [
      "\r",
      "[Stage 0:>                                                          (0 + 1) / 1]\r",
      "\r",
      "                                                                                \r"
     ]
    }
   ],
   "source": [
    "# Read data\n",
    "file = \"/Users/PengHao/Study/uwaterloo/BigData/groupAssignment/dataAndDesc/yellow_tripdata_2022-03.parquet\"\n",
    "df = spark.read.parquet(file, header = True, inferSchema = True)"
   ]
  },
  {
   "cell_type": "code",
   "execution_count": 3,
   "id": "68731c8d",
   "metadata": {},
   "outputs": [],
   "source": [
    "df.createOrReplaceTempView(\"df\")"
   ]
  },
  {
   "cell_type": "markdown",
   "id": "5644ff5f",
   "metadata": {},
   "source": [
    "## Data Clean and Feature Engineering"
   ]
  },
  {
   "cell_type": "code",
   "execution_count": 4,
   "id": "afac3373",
   "metadata": {},
   "outputs": [
    {
     "name": "stdout",
     "output_type": "stream",
     "text": [
      "root\n",
      " |-- VendorID: long (nullable = true)\n",
      " |-- tpep_pickup_datetime: timestamp (nullable = true)\n",
      " |-- tpep_dropoff_datetime: timestamp (nullable = true)\n",
      " |-- passenger_count: double (nullable = true)\n",
      " |-- trip_distance: double (nullable = true)\n",
      " |-- RatecodeID: double (nullable = true)\n",
      " |-- store_and_fwd_flag: string (nullable = true)\n",
      " |-- PULocationID: long (nullable = true)\n",
      " |-- DOLocationID: long (nullable = true)\n",
      " |-- payment_type: long (nullable = true)\n",
      " |-- fare_amount: double (nullable = true)\n",
      " |-- extra: double (nullable = true)\n",
      " |-- mta_tax: double (nullable = true)\n",
      " |-- tip_amount: double (nullable = true)\n",
      " |-- tolls_amount: double (nullable = true)\n",
      " |-- improvement_surcharge: double (nullable = true)\n",
      " |-- total_amount: double (nullable = true)\n",
      " |-- congestion_surcharge: double (nullable = true)\n",
      " |-- airport_fee: double (nullable = true)\n",
      "\n"
     ]
    }
   ],
   "source": [
    "# Print df schema\n",
    "df.printSchema()"
   ]
  },
  {
   "cell_type": "code",
   "execution_count": 5,
   "id": "5fb3d94e",
   "metadata": {},
   "outputs": [],
   "source": [
    "# Drop missing values from dataframe\n",
    "df = df.na.drop()"
   ]
  },
  {
   "cell_type": "code",
   "execution_count": 6,
   "id": "92554d30",
   "metadata": {},
   "outputs": [],
   "source": [
    "# Drop  duplicates from dataframe\n",
    "df = df.dropDuplicates()"
   ]
  },
  {
   "cell_type": "code",
   "execution_count": 7,
   "id": "1dd8c9ee",
   "metadata": {},
   "outputs": [],
   "source": [
    "# Create new feature reflecting elapsed trip times (in seconds)\n",
    "df = df.withColumn(\"elapsed_time\", (df[\"tpep_dropoff_datetime\"].cast(\"long\")-df[\"tpep_pickup_datetime\"].cast(\"long\")))\n",
    "\n",
    "# Create column indicating the day of week of the pickup\n",
    "df = df.withColumn(\"day_of_week\", F.dayofweek(\"tpep_pickup_datetime\"))\n",
    "\n",
    "# Create column indicating the hour of the pickup\n",
    "df = df.withColumn(\"hour\", F.hour(\"tpep_pickup_datetime\"))"
   ]
  },
  {
   "cell_type": "code",
   "execution_count": 8,
   "id": "cbb789c9",
   "metadata": {},
   "outputs": [],
   "source": [
    "# Filter out any rows where tpep_dropoff_datetime is less than tpep_pickup_datetime and trips are < 3 hrs (10,800 seconds)\n",
    "df = df.where((df.tpep_dropoff_datetime > df.tpep_pickup_datetime) & (df.elapsed_time < 10800))"
   ]
  },
  {
   "cell_type": "code",
   "execution_count": 9,
   "id": "bd4cbbf4",
   "metadata": {},
   "outputs": [],
   "source": [
    "# Columns to drop from PySpark dataframe and pandas dataframe\n",
    "# Drop Store_and_fwd_flag: only provides information as to type of memory to store the trip data (in vehicle or server)\n",
    "# Drop all fare/cost data other than total_amount to avoid information leakeage as this data is not known prior to the trip\n",
    "# Drop tpep_dropoff_datetime as we have pickup time and elapsed time\n",
    "drop_cols = [\"tpep_pickup_datetime\", \"tpep_dropoff_datetime\", \"store_and_fwd_flag\", \"payment_type\", \"fare_amount\", \"extra\",\n",
    "             \"mta_tax\", \"tip_amount\", \"tolls_amount\", \"improvement_surcharge\", \"congestion_surcharge\", \"airport_fee\"]"
   ]
  },
  {
   "cell_type": "code",
   "execution_count": 10,
   "id": "5034f5b5",
   "metadata": {},
   "outputs": [],
   "source": [
    "# Drop dropCols from PySpark dataframe\n",
    "df = df.drop(*drop_cols)"
   ]
  },
  {
   "cell_type": "code",
   "execution_count": 11,
   "id": "48babe41",
   "metadata": {
    "scrolled": false
   },
   "outputs": [],
   "source": [
    "# Create new column trip combining tuple combinations of PULocationID and DOLocationID\n",
    "df = df.withColumn(\"trip\", F.concat(F.col(\"PULocationID\"), F.lit(\"_\"), F.col(\"DOLocationID\")))"
   ]
  },
  {
   "cell_type": "code",
   "execution_count": 12,
   "id": "68392362",
   "metadata": {
    "scrolled": true
   },
   "outputs": [
    {
     "name": "stderr",
     "output_type": "stream",
     "text": [
      "OpenJDK 64-Bit Server VM warning: CodeCache is full. Compiler has been disabled.\n",
      "OpenJDK 64-Bit Server VM warning: Try increasing the code cache size using -XX:ReservedCodeCacheSize=\n"
     ]
    },
    {
     "name": "stdout",
     "output_type": "stream",
     "text": [
      "CodeCache: size=131072Kb used=22564Kb max_used=22570Kb free=108507Kb\n",
      " bounds [0x00000001024b0000, 0x0000000103ae0000, 0x000000010a4b0000]\n",
      " total_blobs=8598 nmethods=7618 adapters=894\n",
      " compilation: disabled (not enough contiguous free space left)\n"
     ]
    },
    {
     "name": "stderr",
     "output_type": "stream",
     "text": [
      "                                                                                \r"
     ]
    },
    {
     "name": "stdout",
     "output_type": "stream",
     "text": [
      "Number of trips > 8000 is: 13\n"
     ]
    },
    {
     "name": "stderr",
     "output_type": "stream",
     "text": [
      "                                                                                \r"
     ]
    },
    {
     "data": {
      "text/plain": [
       "['236_236',\n",
       " '237_237',\n",
       " '237_236',\n",
       " '141_236',\n",
       " '236_237',\n",
       " '237_161',\n",
       " '264_264',\n",
       " '161_236',\n",
       " '161_237',\n",
       " '239_142',\n",
       " '239_238',\n",
       " '236_161',\n",
       " '142_239']"
      ]
     },
     "execution_count": 12,
     "metadata": {},
     "output_type": "execute_result"
    }
   ],
   "source": [
    "# For One-Hot_Encoding we will need to reduce the number of trip categories to manage the size of the dataframe\n",
    "# Filter dataframe for trip frequencies > threshold\n",
    "trip_freq_threshold = 8000\n",
    "mask = df.groupBy(\"trip\").count().where(F.col(\"count\") > trip_freq_threshold)\n",
    "print(\"Number of trips > \" +str(trip_freq_threshold)+ \" is: \" + str(mask.count()))\n",
    "filtered_trips = [data[0] for data in mask.select('trip').collect()]\n",
    "filtered_trips"
   ]
  },
  {
   "cell_type": "code",
   "execution_count": 13,
   "id": "5214640a",
   "metadata": {},
   "outputs": [],
   "source": [
    "# Filter df for values only in filtered_trips list\n",
    "df = df.where(df.trip.isin(filtered_trips))"
   ]
  },
  {
   "cell_type": "code",
   "execution_count": 14,
   "id": "80c7f929",
   "metadata": {
    "scrolled": true
   },
   "outputs": [],
   "source": [
    "# Outlier removal - we'll filter out any total_amount > 500\n",
    "# According to new york taxi fare webpage, initial charge would be 3.00\n",
    "# https://www.nyc.gov/site/tlc/passengers/taxi-fare.page\n",
    "df = df.where((df.total_amount > 3) & (df.total_amount < 500))"
   ]
  },
  {
   "cell_type": "code",
   "execution_count": 15,
   "id": "6bd63442",
   "metadata": {
    "scrolled": true
   },
   "outputs": [
    {
     "name": "stdout",
     "output_type": "stream",
     "text": [
      "Dimensions of dataframe is now:\n"
     ]
    },
    {
     "name": "stderr",
     "output_type": "stream",
     "text": [
      "\r",
      "[Stage 17:>                                                         (0 + 1) / 1]\r"
     ]
    },
    {
     "name": "stdout",
     "output_type": "stream",
     "text": [
      "162945 11\n"
     ]
    },
    {
     "name": "stderr",
     "output_type": "stream",
     "text": [
      "\r",
      "                                                                                \r"
     ]
    }
   ],
   "source": [
    "# Find dimensions of data after filtering elapsed times and trip frequencies\n",
    "print(\"Dimensions of dataframe is now:\")\n",
    "print(df.count(), len(df.columns))"
   ]
  },
  {
   "cell_type": "markdown",
   "id": "9f198392",
   "metadata": {},
   "source": [
    "## Data Exploratory and Feature Engineer for Fare Prediction"
   ]
  },
  {
   "cell_type": "code",
   "execution_count": 16,
   "id": "292d8eb7",
   "metadata": {},
   "outputs": [
    {
     "name": "stderr",
     "output_type": "stream",
     "text": [
      "\r",
      "[Stage 23:>                                                         (0 + 1) / 1]\r"
     ]
    },
    {
     "name": "stdout",
     "output_type": "stream",
     "text": [
      "+----------+------+\n",
      "|RatecodeID| count|\n",
      "+----------+------+\n",
      "|       1.0|160425|\n",
      "|       5.0|  1552|\n",
      "|       2.0|   881|\n",
      "|       3.0|    80|\n",
      "|      99.0|     5|\n",
      "|       4.0|     2|\n",
      "+----------+------+\n",
      "\n"
     ]
    },
    {
     "name": "stderr",
     "output_type": "stream",
     "text": [
      "\r",
      "                                                                                \r"
     ]
    }
   ],
   "source": [
    "# Based on the NYC metadata, 0.0 is not a valid ratecode\n",
    "# https://www.nyc.gov/assets/tlc/downloads/pdf/data_dictionary_trip_records_yellow.pdf\n",
    "from pyspark.sql.functions import count,desc\n",
    "rate_code_counts = df.groupBy('RatecodeID') \\\n",
    "                           .agg(count('*').alias('count')) \\\n",
    "                           .orderBy(desc('count'))\n",
    "\n",
    "rate_code_counts.show()"
   ]
  },
  {
   "cell_type": "code",
   "execution_count": 17,
   "id": "2e54373e",
   "metadata": {},
   "outputs": [
    {
     "name": "stderr",
     "output_type": "stream",
     "text": [
      "\r",
      "[Stage 29:>                                                         (0 + 1) / 1]\r"
     ]
    },
    {
     "name": "stdout",
     "output_type": "stream",
     "text": [
      "162940 11\n"
     ]
    },
    {
     "name": "stderr",
     "output_type": "stream",
     "text": [
      "\r",
      "                                                                                \r"
     ]
    }
   ],
   "source": [
    "# rate code 99 is not a valid code, remove the invalid rows\n",
    "from pyspark.sql.functions import col\n",
    "\n",
    "# Create a list of values to filter on\n",
    "ratecodes = ['1.0', '2.0', '3.0', '4.0', '5.0', '6.0']\n",
    "\n",
    "# Filter the DataFrame to include only rows where RatecodeID is in the list of ratecodes\n",
    "df = df.where(col('RatecodeID').isin(ratecodes))\n",
    "print(df.count(), len(df.columns))"
   ]
  },
  {
   "cell_type": "code",
   "execution_count": 18,
   "id": "ac652c99",
   "metadata": {},
   "outputs": [
    {
     "name": "stderr",
     "output_type": "stream",
     "text": [
      "\r",
      "[Stage 35:>                                                         (0 + 1) / 1]\r"
     ]
    },
    {
     "name": "stdout",
     "output_type": "stream",
     "text": [
      "+-------+------------------+-----------------+\n",
      "|summary|     trip_distance|     elapsed_time|\n",
      "+-------+------------------+-----------------+\n",
      "|  count|            162940|           162940|\n",
      "|   mean|1.3061547809009346|491.9583036700626|\n",
      "| stddev|1.6513811324184393|381.0713814746734|\n",
      "|    min|               0.0|                1|\n",
      "|    max|             59.85|             9416|\n",
      "+-------+------------------+-----------------+\n",
      "\n"
     ]
    },
    {
     "name": "stderr",
     "output_type": "stream",
     "text": [
      "\r",
      "                                                                                \r"
     ]
    }
   ],
   "source": [
    "# Check to see if any invalid value in trip distance and elapsed time columns\n",
    "df.select('trip_distance', 'elapsed_time').describe().show()"
   ]
  },
  {
   "cell_type": "code",
   "execution_count": 22,
   "id": "d9c6ea69",
   "metadata": {},
   "outputs": [
    {
     "name": "stderr",
     "output_type": "stream",
     "text": [
      "                                                                                \r"
     ]
    },
    {
     "data": {
      "text/plain": [
       "17337"
      ]
     },
     "execution_count": 22,
     "metadata": {},
     "output_type": "execute_result"
    }
   ],
   "source": [
    "df.where((col(\"trip_distance\") <= 0) | (col(\"elapsed_time\") <= 180)).count()"
   ]
  },
  {
   "cell_type": "code",
   "execution_count": 23,
   "id": "ea6a65f4",
   "metadata": {},
   "outputs": [
    {
     "name": "stderr",
     "output_type": "stream",
     "text": [
      "\r",
      "[Stage 65:>                                                         (0 + 1) / 1]\r"
     ]
    },
    {
     "name": "stdout",
     "output_type": "stream",
     "text": [
      "145603 11\n"
     ]
    },
    {
     "name": "stderr",
     "output_type": "stream",
     "text": [
      "\r",
      "                                                                                \r"
     ]
    }
   ],
   "source": [
    "# Drop the rows with negative trip_distance or duration is smaller than 3 min\n",
    "df = df.where((df.trip_distance > 0) & (df.elapsed_time > 180))\n",
    "print(df.count(), len(df.columns))"
   ]
  },
  {
   "cell_type": "code",
   "execution_count": 24,
   "id": "229cdfdc",
   "metadata": {},
   "outputs": [],
   "source": [
    "# Create a new column to indicate if the day is weekday or weekend\n",
    "from pyspark.sql.functions import when\n",
    "\n",
    "df = df.withColumn(\"is_weekday\", when((df.day_of_week >= 2) & (df.day_of_week <= 6), 1).otherwise(0))"
   ]
  },
  {
   "cell_type": "code",
   "execution_count": 25,
   "id": "ff4c0008",
   "metadata": {},
   "outputs": [],
   "source": [
    "# Drop the columns that are duplicate or might not be useful in prediction\n",
    "#drop_cols = [\"VendorID\", \"passenger_count\", \"PULocationID\", \"DOLocationID\", \"RatecodeID\"]\n",
    "drop_cols = [\"VendorID\", \"passenger_count\", \"PULocationID\", \"DOLocationID\", \"RatecodeID\", \"trip_distance\", \"elapsed_time\"]\n",
    "df = df.drop(*drop_cols)"
   ]
  },
  {
   "cell_type": "code",
   "execution_count": 26,
   "id": "453398f7",
   "metadata": {},
   "outputs": [
    {
     "name": "stderr",
     "output_type": "stream",
     "text": [
      "                                                                                \r"
     ]
    },
    {
     "data": {
      "image/png": "[encoded data removed]",
      "text/plain": [
       "<Figure size 640x480 with 1 Axes>"
      ]
     },
     "metadata": {},
     "output_type": "display_data"
    }
   ],
   "source": [
    "# Convert it to pandas and check the total_amount histogram\n",
    "df_pandas = df.toPandas()\n",
    "\n",
    "df_pandas[\"total_amount\"].hist(bins = 50)\n",
    "import matplotlib.pyplot as plt\n",
    "plt.show()"
   ]
  },
  {
   "cell_type": "code",
   "execution_count": 27,
   "id": "846fd02e",
   "metadata": {},
   "outputs": [
    {
     "name": "stderr",
     "output_type": "stream",
     "text": [
      "                                                                                \r"
     ]
    },
    {
     "data": {
      "image/png": "[encoded data removed]",
      "text/plain": [
       "<Figure size 640x480 with 1 Axes>"
      ]
     },
     "metadata": {},
     "output_type": "display_data"
    }
   ],
   "source": [
    "# By checking the above histogram, noted the total_amount has a long tail\n",
    "# Try to use log transformation to see if the data could be better normorlized\n",
    "from pyspark.sql.functions import log\n",
    "df = df.withColumn(\"log_total_amount\", log(\"total_amount\"))\n",
    "\n",
    "df_pandas = df.toPandas()\n",
    "df_pandas[\"log_total_amount\"].hist(bins = 50)\n",
    "\n",
    "plt.show()"
   ]
  },
  {
   "cell_type": "code",
   "execution_count": 28,
   "id": "f73c5dfa",
   "metadata": {},
   "outputs": [
    {
     "name": "stderr",
     "output_type": "stream",
     "text": [
      "\r",
      "[Stage 77:>                                                         (0 + 1) / 1]\r"
     ]
    },
    {
     "name": "stdout",
     "output_type": "stream",
     "text": [
      "+-------+------------------+\n",
      "|summary|        is_weekday|\n",
      "+-------+------------------+\n",
      "|  count|            145603|\n",
      "|   mean|0.8287054524975447|\n",
      "| stddev|0.3767674354758265|\n",
      "|    min|                 0|\n",
      "|    max|                 1|\n",
      "+-------+------------------+\n",
      "\n"
     ]
    },
    {
     "name": "stderr",
     "output_type": "stream",
     "text": [
      "\r",
      "                                                                                \r"
     ]
    }
   ],
   "source": [
    "df.select('is_weekday').describe().show()"
   ]
  },
  {
   "cell_type": "code",
   "execution_count": 29,
   "id": "f36e2dad",
   "metadata": {},
   "outputs": [],
   "source": [
    "# Data with log transformation are more normalized. Hence, drop the total_amount\n",
    "\n",
    "# drop_cols = [\"total_amount\",\"day_of_week\"]\n",
    "drop_cols = [\"total_amount\"]\n",
    "df = df.drop(*drop_cols)"
   ]
  },
  {
   "cell_type": "code",
   "execution_count": 30,
   "id": "58e0181c",
   "metadata": {},
   "outputs": [
    {
     "name": "stdout",
     "output_type": "stream",
     "text": [
      "root\n",
      " |-- day_of_week: integer (nullable = true)\n",
      " |-- hour: integer (nullable = true)\n",
      " |-- trip: string (nullable = true)\n",
      " |-- is_weekday: integer (nullable = false)\n",
      " |-- log_total_amount: double (nullable = true)\n",
      "\n"
     ]
    }
   ],
   "source": [
    "df.printSchema()"
   ]
  },
  {
   "cell_type": "markdown",
   "id": "38b2f8ac",
   "metadata": {},
   "source": [
    "## Data Transformation"
   ]
  },
  {
   "cell_type": "code",
   "execution_count": 31,
   "id": "35d9528b",
   "metadata": {},
   "outputs": [
    {
     "name": "stderr",
     "output_type": "stream",
     "text": [
      "                                                                                \r"
     ]
    }
   ],
   "source": [
    "from pyspark.ml.feature import StringIndexer,OneHotEncoder,StandardScaler\n",
    "from pyspark.ml import Pipeline\n",
    "\n",
    "cat_string_columns = [\"trip\"]\n",
    "cat_columns = [\"trip_index\", \"is_weekday\", \"day_of_week\", \"hour\"]\n",
    "#cat_columns = [\"trip_index\", \"is_weekday\", \"hour\"]\n",
    "#discrete_columns = [\"trip_distance\",\"elapsed_time\"]\n",
    "\n",
    "# Create string indexer to convert trip and is_weekday column from string to numeric\n",
    "string_indexer = StringIndexer(inputCol=\"trip\", outputCol=\"trip_index\", handleInvalid='keep')\n",
    "\n",
    "# Create onehot encoder to convert into sparse vector \n",
    "encoder = [OneHotEncoder(inputCol=column, outputCol=column+\"_ohe\") for column in cat_columns]\n",
    "\n",
    "# Create a pipeline for transform the data\n",
    "pipeline = Pipeline(stages=[string_indexer, *encoder])\n",
    "\n",
    "pipeline_transformer = pipeline.fit(df)\n",
    "\n",
    "pipeline_transformer.write().overwrite().save(\"pipelinetransformer\")"
   ]
  },
  {
   "cell_type": "code",
   "execution_count": 32,
   "id": "bbf12016",
   "metadata": {},
   "outputs": [],
   "source": [
    "df_transform = pipeline_transformer.transform(df).drop(*(cat_string_columns + cat_columns))"
   ]
  },
  {
   "cell_type": "code",
   "execution_count": 33,
   "id": "5ada4dee",
   "metadata": {},
   "outputs": [
    {
     "name": "stderr",
     "output_type": "stream",
     "text": [
      "\r",
      "[Stage 119:>                                                        (0 + 1) / 1]\r"
     ]
    },
    {
     "name": "stdout",
     "output_type": "stream",
     "text": [
      "+------------------+---------------+--------------+---------------+--------------+\n",
      "|  log_total_amount| trip_index_ohe|is_weekday_ohe|day_of_week_ohe|      hour_ohe|\n",
      "+------------------+---------------+--------------+---------------+--------------+\n",
      "|2.6871669901857858|(13,[11],[1.0])|     (1,[],[])|  (7,[3],[1.0])|(23,[0],[1.0])|\n",
      "|2.5447466501440172| (13,[5],[1.0])|     (1,[],[])|  (7,[3],[1.0])|(23,[2],[1.0])|\n",
      "| 2.731766727719526| (13,[8],[1.0])|     (1,[],[])|  (7,[3],[1.0])|(23,[2],[1.0])|\n",
      "| 2.841998173611949| (13,[8],[1.0])|     (1,[],[])|  (7,[3],[1.0])|(23,[3],[1.0])|\n",
      "| 2.876948737564024| (13,[8],[1.0])|     (1,[],[])|  (7,[3],[1.0])|(23,[4],[1.0])|\n",
      "| 2.760009940032921| (13,[5],[1.0])|     (1,[],[])|  (7,[3],[1.0])|(23,[3],[1.0])|\n",
      "|2.8425810940598164|(13,[11],[1.0])|     (1,[],[])|  (7,[3],[1.0])|(23,[6],[1.0])|\n",
      "| 2.464703942470481|(13,[12],[1.0])|     (1,[],[])|  (7,[3],[1.0])|(23,[6],[1.0])|\n",
      "|2.7763317085186157| (13,[1],[1.0])|     (1,[],[])|  (7,[3],[1.0])|(23,[6],[1.0])|\n",
      "| 2.731115474033206| (13,[7],[1.0])|     (1,[],[])|  (7,[3],[1.0])|(23,[7],[1.0])|\n",
      "+------------------+---------------+--------------+---------------+--------------+\n",
      "only showing top 10 rows\n",
      "\n"
     ]
    },
    {
     "name": "stderr",
     "output_type": "stream",
     "text": [
      "\r",
      "                                                                                \r"
     ]
    }
   ],
   "source": [
    "df_transform.show(10)"
   ]
  },
  {
   "cell_type": "markdown",
   "id": "16b9f747",
   "metadata": {},
   "source": [
    "## Pull features into vector"
   ]
  },
  {
   "cell_type": "code",
   "execution_count": 34,
   "id": "e2ed6535",
   "metadata": {},
   "outputs": [],
   "source": [
    "featureCols = [c for c in df_transform.columns if c != 'log_total_amount']"
   ]
  },
  {
   "cell_type": "code",
   "execution_count": 35,
   "id": "56255241",
   "metadata": {},
   "outputs": [
    {
     "name": "stdout",
     "output_type": "stream",
     "text": [
      "['trip_index_ohe', 'is_weekday_ohe', 'day_of_week_ohe', 'hour_ohe']\n"
     ]
    }
   ],
   "source": [
    "print(featureCols)"
   ]
  },
  {
   "cell_type": "code",
   "execution_count": 36,
   "id": "720cf80e",
   "metadata": {},
   "outputs": [],
   "source": [
    "from pyspark.ml.feature import VectorAssembler\n",
    "feature = VectorAssembler(inputCols=featureCols,outputCol=\"features\")\n",
    "feature_vector= feature.transform(df_transform)"
   ]
  },
  {
   "cell_type": "code",
   "execution_count": 37,
   "id": "187b4ba7",
   "metadata": {},
   "outputs": [
    {
     "name": "stderr",
     "output_type": "stream",
     "text": [
      "\r",
      "[Stage 122:>                                                        (0 + 1) / 1]\r"
     ]
    },
    {
     "name": "stdout",
     "output_type": "stream",
     "text": [
      "+------------------+---------------+--------------+---------------+---------------+--------------------+\n",
      "|  log_total_amount| trip_index_ohe|is_weekday_ohe|day_of_week_ohe|       hour_ohe|            features|\n",
      "+------------------+---------------+--------------+---------------+---------------+--------------------+\n",
      "|2.6871669901857858|(13,[11],[1.0])|     (1,[],[])|  (7,[3],[1.0])| (23,[0],[1.0])|(44,[11,17,21],[1...|\n",
      "|2.5447466501440172| (13,[5],[1.0])|     (1,[],[])|  (7,[3],[1.0])| (23,[2],[1.0])|(44,[5,17,23],[1....|\n",
      "| 2.731766727719526| (13,[8],[1.0])|     (1,[],[])|  (7,[3],[1.0])| (23,[2],[1.0])|(44,[8,17,23],[1....|\n",
      "| 2.841998173611949| (13,[8],[1.0])|     (1,[],[])|  (7,[3],[1.0])| (23,[3],[1.0])|(44,[8,17,24],[1....|\n",
      "| 2.876948737564024| (13,[8],[1.0])|     (1,[],[])|  (7,[3],[1.0])| (23,[4],[1.0])|(44,[8,17,25],[1....|\n",
      "| 2.760009940032921| (13,[5],[1.0])|     (1,[],[])|  (7,[3],[1.0])| (23,[3],[1.0])|(44,[5,17,24],[1....|\n",
      "|2.8425810940598164|(13,[11],[1.0])|     (1,[],[])|  (7,[3],[1.0])| (23,[6],[1.0])|(44,[11,17,27],[1...|\n",
      "| 2.464703942470481|(13,[12],[1.0])|     (1,[],[])|  (7,[3],[1.0])| (23,[6],[1.0])|(44,[12,17,27],[1...|\n",
      "|2.7763317085186157| (13,[1],[1.0])|     (1,[],[])|  (7,[3],[1.0])| (23,[6],[1.0])|(44,[1,17,27],[1....|\n",
      "| 2.731115474033206| (13,[7],[1.0])|     (1,[],[])|  (7,[3],[1.0])| (23,[7],[1.0])|(44,[7,17,28],[1....|\n",
      "|2.6063865473257097| (13,[6],[1.0])|     (1,[],[])|  (7,[3],[1.0])| (23,[7],[1.0])|(44,[6,17,28],[1....|\n",
      "|2.2364452904895007|(13,[10],[1.0])|     (1,[],[])|  (7,[3],[1.0])| (23,[8],[1.0])|(44,[10,17,29],[1...|\n",
      "| 2.509599262378372| (13,[5],[1.0])|     (1,[],[])|  (7,[3],[1.0])| (23,[9],[1.0])|(44,[5,17,30],[1....|\n",
      "|2.3570732782781154|(13,[10],[1.0])|     (1,[],[])|  (7,[3],[1.0])| (23,[9],[1.0])|(44,[10,17,30],[1...|\n",
      "| 2.468099531471619| (13,[0],[1.0])|     (1,[],[])|  (7,[3],[1.0])| (23,[9],[1.0])|(44,[0,17,30],[1....|\n",
      "| 2.424802725718295| (13,[6],[1.0])|     (1,[],[])|  (7,[3],[1.0])|(23,[10],[1.0])|(44,[6,17,31],[1....|\n",
      "|2.2823823856765264|(13,[11],[1.0])|     (1,[],[])|  (7,[3],[1.0])|(23,[11],[1.0])|(44,[11,17,32],[1...|\n",
      "| 2.422144328051685| (13,[0],[1.0])|     (1,[],[])|  (7,[3],[1.0])|(23,[11],[1.0])|(44,[0,17,32],[1....|\n",
      "|2.6390573296152584| (13,[0],[1.0])|     (1,[],[])|  (7,[3],[1.0])|(23,[12],[1.0])|(44,[0,17,33],[1....|\n",
      "| 4.238444906195857| (13,[2],[1.0])|     (1,[],[])|  (7,[3],[1.0])|(23,[12],[1.0])|(44,[2,17,33],[1....|\n",
      "+------------------+---------------+--------------+---------------+---------------+--------------------+\n",
      "only showing top 20 rows\n",
      "\n"
     ]
    },
    {
     "name": "stderr",
     "output_type": "stream",
     "text": [
      "\r",
      "                                                                                \r"
     ]
    }
   ],
   "source": [
    "feature_vector.show()"
   ]
  },
  {
   "cell_type": "markdown",
   "id": "245106ee",
   "metadata": {},
   "source": [
    "## Split the data into training and test set"
   ]
  },
  {
   "cell_type": "code",
   "execution_count": null,
   "id": "c07f4db1",
   "metadata": {},
   "outputs": [],
   "source": [
    "# Split the data into training and testing sets, ensuring that both 1 and 0 values of is_weekday are present in the training data\n",
    "# train_data = df.filter((col(\"is_weekday\") == 1) | (col(\"is_weekday\") == 0)).sampleBy(\"is_weekday\", fractions={0: 0.8, 1: 0.8}, seed=42)\n",
    "# test_data = df.subtract(train_data)"
   ]
  },
  {
   "cell_type": "code",
   "execution_count": 38,
   "id": "eb1f3455",
   "metadata": {},
   "outputs": [],
   "source": [
    "(trainingData, testData) = feature_vector.randomSplit([0.8, 0.2],seed = 42)"
   ]
  },
  {
   "cell_type": "markdown",
   "id": "ffb9fcd7",
   "metadata": {},
   "source": [
    "## Model Prediction - Gradient Boosted Trees"
   ]
  },
  {
   "cell_type": "code",
   "execution_count": 39,
   "id": "1ace64c7",
   "metadata": {},
   "outputs": [
    {
     "name": "stderr",
     "output_type": "stream",
     "text": [
      "[Stage 283:>                                                        (0 + 1) / 1]\r"
     ]
    },
    {
     "name": "stdout",
     "output_type": "stream",
     "text": [
      "23/03/31 15:23:01 WARN InstanceBuilder$NativeBLAS: Failed to load implementation from:dev.ludovic.netlib.blas.JNIBLAS\n",
      "23/03/31 15:23:01 WARN InstanceBuilder$NativeBLAS: Failed to load implementation from:dev.ludovic.netlib.blas.ForeignLinkerBLAS\n",
      "+------------------+------------------+--------------------+\n",
      "|        prediction|  log_total_amount|            features|\n",
      "+------------------+------------------+--------------------+\n",
      "|  2.78319921253041|1.5686159179138452|(44,[2,17,31],[1....|\n",
      "| 2.793552715649291|1.5686159179138452|(44,[2,19,27],[1....|\n",
      "| 2.950281946684088|1.5686159179138452|(44,[2,20,33],[1....|\n",
      "|2.7510664616606366| 1.667706820558076|(44,[2,16,22],[1....|\n",
      "|  2.78319921253041| 1.667706820558076|(44,[2,17,28],[1....|\n",
      "|  2.78319921253041| 1.667706820558076|(44,[2,17,39],[1....|\n",
      "|2.7852350246878625| 1.667706820558076|(44,[2,18,43],[1....|\n",
      "| 2.793552715649291| 1.667706820558076|(44,[2,19,39],[1....|\n",
      "| 2.780165176205698| 1.667706820558076|(44,[2,13,35],[1....|\n",
      "| 2.780165176205698| 1.667706820558076|(44,[2,13,35],[1....|\n",
      "| 2.780165176205698| 1.667706820558076|(44,[2,13,15,27],...|\n",
      "| 2.780165176205698| 1.667706820558076|(44,[2,13,15,36],...|\n",
      "| 2.780165176205698| 1.667706820558076|(44,[2,13,15,38],...|\n",
      "| 2.770517922342215| 1.749199854809259|(44,[2,16,24],[1....|\n",
      "| 2.517055332934263|1.7578579175523736|(44,[1,18,30],[1....|\n",
      "| 2.770517922342215|1.7578579175523736|(44,[2,16,29],[1....|\n",
      "|  2.78319921253041|1.7578579175523736|(44,[2,17,27],[1....|\n",
      "|2.7852350246878625|1.7578579175523736|(44,[2,18,39],[1....|\n",
      "| 2.793552715649291|1.7578579175523736|(44,[2,19,41],[1....|\n",
      "| 2.818587994573167|1.7578579175523736|(44,[2,20,43],[1....|\n",
      "+------------------+------------------+--------------------+\n",
      "only showing top 20 rows\n",
      "\n"
     ]
    },
    {
     "name": "stderr",
     "output_type": "stream",
     "text": [
      "\r",
      "                                                                                \r"
     ]
    }
   ],
   "source": [
    "from pyspark.ml.regression import GBTRegressor\n",
    "\n",
    "# create a GBTRegressor object\n",
    "gbt = GBTRegressor(featuresCol='features', labelCol='log_total_amount', maxIter=10)\n",
    "\n",
    "# fit the model to the training data\n",
    "gbt_model = gbt.fit(trainingData)\n",
    "\n",
    "# make predictions on the test data\n",
    "gbt_predictions = gbt_model.transform(testData)\n",
    "gbt_predictions.select(\"prediction\", \"log_total_amount\", \"features\").show()"
   ]
  },
  {
   "cell_type": "code",
   "execution_count": 40,
   "id": "f7e355e9",
   "metadata": {},
   "outputs": [
    {
     "name": "stderr",
     "output_type": "stream",
     "text": [
      "[Stage 286:>                                                        (0 + 1) / 1]\r"
     ]
    },
    {
     "name": "stdout",
     "output_type": "stream",
     "text": [
      "Root Mean Squared Error (RMSE) on test data = 0.257192\n"
     ]
    },
    {
     "name": "stderr",
     "output_type": "stream",
     "text": [
      "\r",
      "                                                                                \r"
     ]
    }
   ],
   "source": [
    "from pyspark.ml.evaluation import RegressionEvaluator\n",
    "# evaluate the model using RMSE\n",
    "evaluator = RegressionEvaluator(metricName=\"rmse\", labelCol=\"log_total_amount\", predictionCol=\"prediction\")\n",
    "rmse = evaluator.evaluate(gbt_predictions)\n",
    "\n",
    "print(\"Root Mean Squared Error (RMSE) on test data = %g\" % rmse)"
   ]
  },
  {
   "cell_type": "code",
   "execution_count": 41,
   "id": "428b1e9e",
   "metadata": {},
   "outputs": [],
   "source": [
    "from pyspark.sql.functions import exp\n",
    "\n",
    "gbt_predictions = gbt_predictions.withColumn('predicted_total_amount', exp('prediction'))"
   ]
  },
  {
   "cell_type": "code",
   "execution_count": 42,
   "id": "a100cc18",
   "metadata": {},
   "outputs": [
    {
     "name": "stderr",
     "output_type": "stream",
     "text": [
      "[Stage 289:>                                                        (0 + 1) / 1]\r"
     ]
    },
    {
     "name": "stdout",
     "output_type": "stream",
     "text": [
      "+------------------+------------------+----------------------+--------------------+\n",
      "|        prediction|  log_total_amount|predicted_total_amount|            features|\n",
      "+------------------+------------------+----------------------+--------------------+\n",
      "|  2.78319921253041|1.5686159179138452|    16.170671698633075|(44,[2,17,31],[1....|\n",
      "| 2.793552715649291|1.5686159179138452|     16.33896450520483|(44,[2,19,27],[1....|\n",
      "| 2.950281946684088|1.5686159179138452|    19.111341348006736|(44,[2,20,33],[1....|\n",
      "|2.7510664616606366| 1.667706820558076|    15.659323050026368|(44,[2,16,22],[1....|\n",
      "|  2.78319921253041| 1.667706820558076|    16.170671698633075|(44,[2,17,28],[1....|\n",
      "|  2.78319921253041| 1.667706820558076|    16.170671698633075|(44,[2,17,39],[1....|\n",
      "|2.7852350246878625| 1.667706820558076|    16.203625681349088|(44,[2,18,43],[1....|\n",
      "| 2.793552715649291| 1.667706820558076|     16.33896450520483|(44,[2,19,39],[1....|\n",
      "| 2.780165176205698| 1.667706820558076|    16.121683646648478|(44,[2,13,35],[1....|\n",
      "| 2.780165176205698| 1.667706820558076|    16.121683646648478|(44,[2,13,35],[1....|\n",
      "| 2.780165176205698| 1.667706820558076|    16.121683646648478|(44,[2,13,15,27],...|\n",
      "| 2.780165176205698| 1.667706820558076|    16.121683646648478|(44,[2,13,15,36],...|\n",
      "| 2.780165176205698| 1.667706820558076|    16.121683646648478|(44,[2,13,15,38],...|\n",
      "| 2.770517922342215| 1.749199854809259|    15.966901483668842|(44,[2,16,24],[1....|\n",
      "| 2.517055332934263|1.7578579175523736|     12.39205241603652|(44,[1,18,30],[1....|\n",
      "| 2.770517922342215|1.7578579175523736|    15.966901483668842|(44,[2,16,29],[1....|\n",
      "|  2.78319921253041|1.7578579175523736|    16.170671698633075|(44,[2,17,27],[1....|\n",
      "|2.7852350246878625|1.7578579175523736|    16.203625681349088|(44,[2,18,39],[1....|\n",
      "| 2.793552715649291|1.7578579175523736|     16.33896450520483|(44,[2,19,41],[1....|\n",
      "| 2.818587994573167|1.7578579175523736|    16.753178384577964|(44,[2,20,43],[1....|\n",
      "+------------------+------------------+----------------------+--------------------+\n",
      "only showing top 20 rows\n",
      "\n"
     ]
    },
    {
     "name": "stderr",
     "output_type": "stream",
     "text": [
      "\r",
      "                                                                                \r"
     ]
    }
   ],
   "source": [
    "gbt_predictions.select(\"prediction\", \"log_total_amount\",\"predicted_total_amount\", \"features\").show()\n",
    "#gbt_predictions.show()"
   ]
  },
  {
   "cell_type": "code",
   "execution_count": 43,
   "id": "388ded08",
   "metadata": {},
   "outputs": [],
   "source": [
    "gbt_model.write().overwrite().save(\"gbtmodel\")"
   ]
  },
  {
   "cell_type": "markdown",
   "id": "101563f4",
   "metadata": {},
   "source": [
    "## Model Prediction - Linear Regression"
   ]
  },
  {
   "cell_type": "code",
   "execution_count": 44,
   "id": "ea4c317b",
   "metadata": {},
   "outputs": [
    {
     "name": "stderr",
     "output_type": "stream",
     "text": [
      "[Stage 298:>                                                        (0 + 1) / 1]\r"
     ]
    },
    {
     "name": "stdout",
     "output_type": "stream",
     "text": [
      "23/03/31 15:31:16 WARN Instrumentation: [a5f24133] regParam is zero, which might cause numerical instability and overfitting.\n"
     ]
    },
    {
     "name": "stderr",
     "output_type": "stream",
     "text": [
      "                                                                                \r"
     ]
    },
    {
     "name": "stdout",
     "output_type": "stream",
     "text": [
      "23/03/31 15:31:18 WARN InstanceBuilder$NativeLAPACK: Failed to load implementation from:dev.ludovic.netlib.lapack.JNILAPACK\n",
      "23/03/31 15:31:18 WARN Instrumentation: [a5f24133] Cholesky solver failed due to singular covariance matrix. Retrying with Quasi-Newton solver.\n"
     ]
    },
    {
     "name": "stderr",
     "output_type": "stream",
     "text": [
      "[Stage 306:>                                                        (0 + 1) / 1]\r"
     ]
    },
    {
     "name": "stdout",
     "output_type": "stream",
     "text": [
      "+------------------+------------------+--------------------+\n",
      "|        prediction|  log_total_amount|            features|\n",
      "+------------------+------------------+--------------------+\n",
      "| 2.809441660249181|1.5686159179138452|(44,[2,17,31],[1....|\n",
      "|2.8225083565185534|1.5686159179138452|(44,[2,19,27],[1....|\n",
      "|2.8434016523272665|1.5686159179138452|(44,[2,20,33],[1....|\n",
      "| 2.691757619702204| 1.667706820558076|(44,[2,16,22],[1....|\n",
      "| 2.811140429874409| 1.667706820558076|(44,[2,17,28],[1....|\n",
      "| 2.806774964115244| 1.667706820558076|(44,[2,17,39],[1....|\n",
      "|2.8656160882266297| 1.667706820558076|(44,[2,18,43],[1....|\n",
      "|2.8280906851478225| 1.667706820558076|(44,[2,19,39],[1....|\n",
      "|2.7451975611783883| 1.667706820558076|(44,[2,13,35],[1....|\n",
      "|2.7451975611783883| 1.667706820558076|(44,[2,13,35],[1....|\n",
      "| 2.725938944843238| 1.667706820558076|(44,[2,13,15,27],...|\n",
      "| 2.727036156882318| 1.667706820558076|(44,[2,13,15,36],...|\n",
      "| 2.714666229121758| 1.667706820558076|(44,[2,13,15,38],...|\n",
      "| 2.744050389110839| 1.749199854809259|(44,[2,16,24],[1....|\n",
      "|2.5366303968527792|1.7578579175523736|(44,[1,18,30],[1....|\n",
      "| 2.782704239970469|1.7578579175523736|(44,[2,16,29],[1....|\n",
      "| 2.801192635485975|1.7578579175523736|(44,[2,17,27],[1....|\n",
      "|2.8187022537539277|1.7578579175523736|(44,[2,18,39],[1....|\n",
      "|2.8311928059293585|1.7578579175523736|(44,[2,19,41],[1....|\n",
      "| 2.845174943262563|1.7578579175523736|(44,[2,20,43],[1....|\n",
      "+------------------+------------------+--------------------+\n",
      "only showing top 20 rows\n",
      "\n"
     ]
    },
    {
     "name": "stderr",
     "output_type": "stream",
     "text": [
      "\r",
      "                                                                                \r"
     ]
    }
   ],
   "source": [
    "from pyspark.ml.regression import LinearRegression\n",
    "from pyspark.ml.evaluation import RegressionEvaluator\n",
    "lr = LinearRegression(labelCol='log_total_amount', featuresCol=\"features\")\n",
    "\n",
    "lrModel = lr.fit(trainingData)\n",
    "lr_prediction = lrModel.transform(testData)\n",
    "lr_prediction.select(\"prediction\", \"log_total_amount\", \"features\").show()\n"
   ]
  },
  {
   "cell_type": "code",
   "execution_count": 45,
   "id": "34a688ea",
   "metadata": {},
   "outputs": [
    {
     "name": "stderr",
     "output_type": "stream",
     "text": [
      "[Stage 309:>                                                        (0 + 1) / 1]\r"
     ]
    },
    {
     "name": "stdout",
     "output_type": "stream",
     "text": [
      "Root Mean Squared Error (RMSE) on test data = 0.25723\n"
     ]
    },
    {
     "name": "stderr",
     "output_type": "stream",
     "text": [
      "\r",
      "                                                                                \r"
     ]
    }
   ],
   "source": [
    "evaluator = RegressionEvaluator(metricName=\"rmse\", labelCol=\"log_total_amount\", predictionCol=\"prediction\")\n",
    "rmse = evaluator.evaluate(lr_prediction)\n",
    "\n",
    "print(\"Root Mean Squared Error (RMSE) on test data = %g\" % rmse)"
   ]
  },
  {
   "cell_type": "code",
   "execution_count": 46,
   "id": "d2205538",
   "metadata": {},
   "outputs": [],
   "source": [
    "spark.stop()"
   ]
  },
  {
   "cell_type": "code",
   "execution_count": null,
   "id": "4d5ad73a",
   "metadata": {},
   "outputs": [],
   "source": []
  }
 ],
 "metadata": {
  "kernelspec": {
   "display_name": "Python 3 (ipykernel)",
   "language": "python",
   "name": "python3"
  },
  "language_info": {
   "codemirror_mode": {
    "name": "ipython",
    "version": 3
   },
   "file_extension": ".py",
   "mimetype": "text/x-python",
   "name": "python",
   "nbconvert_exporter": "python",
   "pygments_lexer": "ipython3",
   "version": "3.9.13"
  }
 },
 "nbformat": 4,
 "nbformat_minor": 5
}
